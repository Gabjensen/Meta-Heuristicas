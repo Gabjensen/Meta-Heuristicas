{
 "cells": [
  {
   "cell_type": "code",
   "execution_count": null,
   "metadata": {},
   "outputs": [],
   "source": [
    "quantidade = int(input(\"Digite o tamanho do conjunto de dados: \"))\n",
    "num = float(input(\"Digite o 1º número: \"))\n",
    "maior = num\n",
    "menor = num"
   ]
  },
  {
   "cell_type": "code",
   "execution_count": null,
   "metadata": {},
   "outputs": [],
   "source": [
    "for i in range(quantidade-1):\n",
    "    num = float(input(f\"Digite o {i+2}º número: \"))\n",
    "    if num>maior:\n",
    "        maior=num\n",
    "    if num<menor:\n",
    "        menor=num"
   ]
  },
  {
   "cell_type": "code",
   "execution_count": null,
   "metadata": {},
   "outputs": [],
   "source": [
    "print(f\"O maior número digitado foi: {maior}\")\n",
    "print(f\"O menor número digitado foi: {menor}\")"
   ]
  }
 ],
 "metadata": {
  "kernelspec": {
   "display_name": "base",
   "language": "python",
   "name": "python3"
  },
  "language_info": {
   "name": "python",
   "version": "3.9.13 (main, Aug 25 2022, 23:51:50) [MSC v.1916 64 bit (AMD64)]"
  },
  "orig_nbformat": 4,
  "vscode": {
   "interpreter": {
    "hash": "f49206fcf84a9145e7e21228cbafa911d1ac18292303b01e865d8267a9c448f7"
   }
  }
 },
 "nbformat": 4,
 "nbformat_minor": 2
}
